{
 "cells": [
  {
   "cell_type": "markdown",
   "id": "291f69cb",
   "metadata": {},
   "source": [
    "* X, Y ~ Ben(0.5) \n",
    "* Decide m, which is the number of rows such that m  < n * H(Z) where H(Z) = h(p) \n",
    "* h(p) = -plog(2)p-(1-p)log(2)(1-p)\n",
    "* p < 0.5 eller 0.1\n",
    "* m ≈ nh(p)"
   ]
  },
  {
   "cell_type": "code",
   "execution_count": 1,
   "id": "38aa4b0e",
   "metadata": {},
   "outputs": [],
   "source": [
    "import math\n",
    "import random\n",
    "import numpy as np\n",
    "from scipy.stats import entropy"
   ]
  },
  {
   "cell_type": "code",
   "execution_count": 2,
   "id": "a5a6bcba",
   "metadata": {},
   "outputs": [],
   "source": [
    "def generate_bernoulli_vectors(n):\n",
    "    x = [random.choice([0, 1]) for _ in range(n)]\n",
    "    y = [random.choice([0, 1]) for _ in range(n)]\n",
    "    return x, y"
   ]
  },
  {
   "cell_type": "code",
   "execution_count": 3,
   "id": "920b630c",
   "metadata": {},
   "outputs": [],
   "source": [
    "def modulo_two_sum(x, y):\n",
    "    return [((x[i] + y[i]) % 2) for i in range(len(x))]"
   ]
  },
  {
   "cell_type": "code",
   "execution_count": 4,
   "id": "4de2a17b",
   "metadata": {},
   "outputs": [],
   "source": [
    "def generate_matrix(m, n):\n",
    "    matrix = np.random.binomial(n=1, p=0.5, size=(m, n))\n",
    "    return matrix"
   ]
  },
  {
   "cell_type": "code",
   "execution_count": 5,
   "id": "d37dc471",
   "metadata": {},
   "outputs": [],
   "source": [
    "def calc_entropy(p):\n",
    "    h_p = -p*math.log2(p) - (1-p)*math.log2(1-p)\n",
    "    return h_p"
   ]
  },
  {
   "cell_type": "code",
   "execution_count": 6,
   "id": "503ba16b",
   "metadata": {},
   "outputs": [
    {
     "name": "stdout",
     "output_type": "stream",
     "text": [
      "X:  [0, 0, 1, 0, 0, 0, 0, 1, 0, 1]\n",
      "Y:  [0, 1, 1, 1, 0, 0, 1, 1, 1, 1] \n",
      "\n",
      "Matrix A: \n",
      " [[0 0 1 1 1 0 1 1 0 1]\n",
      " [1 1 0 0 1 0 1 1 1 1]\n",
      " [1 0 0 1 1 1 1 0 1 0]\n",
      " [1 0 1 0 1 1 1 1 0 0]] \n",
      "\n",
      "h(p):  0.4689955935892812\n",
      "nh(p):  4.6899559358928125\n"
     ]
    }
   ],
   "source": [
    "n = 10\n",
    "X, Y = generate_bernoulli_vectors(n)\n",
    "print(\"X: \", X)\n",
    "print(\"Y: \", Y, \"\\n\")\n",
    "\n",
    "A = generate_matrix(4, n)\n",
    "print(\"Matrix A: \\n\", A, \"\\n\")\n",
    "\n",
    "h_p = calc_entropy(0.1)\n",
    "print(\"h(p): \",h_p)\n",
    "print(\"nh(p): \",n*h_p)"
   ]
  },
  {
   "cell_type": "code",
   "execution_count": 7,
   "id": "139be39a",
   "metadata": {},
   "outputs": [
    {
     "name": "stdout",
     "output_type": "stream",
     "text": [
      "AX:  [3 2 0 2] \n",
      "\n",
      "AY:  [5 5 3 3] \n",
      "\n",
      "Z:  [0, 1, 0, 1, 0, 0, 1, 0, 1, 0] \n",
      "\n",
      "AZ:  [0, 1, 1, 1]\n"
     ]
    }
   ],
   "source": [
    "AX = np.dot(A, X)\n",
    "print(\"AX: \",AX, \"\\n\")\n",
    "\n",
    "AY = np.dot(A, Y)\n",
    "print(\"AY: \",AY, \"\\n\")\n",
    "\n",
    "Z = modulo_two_sum(X, Y)\n",
    "print (\"Z: \", Z, \"\\n\")\n",
    "\n",
    "AZ = modulo_two_sum(AX, AY)\n",
    "print(\"AZ: \", AZ, )"
   ]
  }
 ],
 "metadata": {
  "kernelspec": {
   "display_name": "Python 3 (ipykernel)",
   "language": "python",
   "name": "python3"
  },
  "language_info": {
   "codemirror_mode": {
    "name": "ipython",
    "version": 3
   },
   "file_extension": ".py",
   "mimetype": "text/x-python",
   "name": "python",
   "nbconvert_exporter": "python",
   "pygments_lexer": "ipython3",
   "version": "3.9.13"
  }
 },
 "nbformat": 4,
 "nbformat_minor": 5
}
