{
 "cells": [
  {
   "cell_type": "markdown",
   "id": "291f69cb",
   "metadata": {},
   "source": [
    "* X, Y ~ Ben(0.5) \n",
    "* Decide m, which is the number of rows such that m  < n * H(Z) where H(Z) = h(p) \n",
    "* h(p) = -plog(2)p-(1-p)log(2)(1-p)\n",
    "* p < 0.5 eller 0.1\n",
    "* m ≈ nh(p)"
   ]
  },
  {
   "cell_type": "code",
   "execution_count": 3,
   "id": "38aa4b0e",
   "metadata": {},
   "outputs": [],
   "source": [
    "import math\n",
    "import random\n",
    "import numpy as np\n",
    "from scipy.stats import entropy"
   ]
  },
  {
   "cell_type": "code",
   "execution_count": 2,
   "id": "a5a6bcba",
   "metadata": {},
   "outputs": [],
   "source": [
    "def generate_bernoulli_vectors(n):\n",
    "    x = [random.choice([0, 1]) for _ in range(n)]\n",
    "    y = [random.choice([0, 1]) for _ in range(n)]\n",
    "    return x, y"
   ]
  },
  {
   "cell_type": "code",
   "execution_count": 4,
   "id": "920b630c",
   "metadata": {},
   "outputs": [],
   "source": [
    "def modulo_two_sum(x, y):\n",
    "    return [((x[i] + y[i]) % 2) for i in range(len(x))]"
   ]
  },
  {
   "cell_type": "code",
   "execution_count": 5,
   "id": "4de2a17b",
   "metadata": {},
   "outputs": [],
   "source": [
    "def generate_matrix(m, n):\n",
    "    matrix = np.random.binomial(n=1, p=0.5, size=(m, n))\n",
    "    return matrix"
   ]
  },
  {
   "cell_type": "code",
   "execution_count": 6,
   "id": "d37dc471",
   "metadata": {},
   "outputs": [],
   "source": [
    "def calc_entropy(p):\n",
    "    h_p = -p*math.log2(p) - (1-p)*math.log2(1-p)\n",
    "    return h_p"
   ]
  },
  {
   "cell_type": "code",
   "execution_count": 38,
   "id": "320c6fe7",
   "metadata": {},
   "outputs": [
    {
     "name": "stdout",
     "output_type": "stream",
     "text": [
      "Vectors of length n: 13 \n",
      "\n",
      "X: [0, 1, 0, 1, 0, 1, 1, 1, 0, 0, 0, 1, 0]\n",
      "Y: [0, 1, 0, 0, 0, 1, 1, 1, 0, 1, 0, 0, 0] \n",
      "\n",
      "h(p):  0.4689955935892812\n",
      "nh(p):  6.096942716660656 \n",
      "\n",
      "Matrix A: (6, 13) \n",
      "\n",
      "[[1 0 1 1 0 1 1 1 0 0 1 1 1]\n",
      " [1 1 1 1 1 0 0 1 0 0 1 0 1]\n",
      " [1 0 1 1 0 1 1 1 1 1 0 0 0]\n",
      " [0 0 0 0 0 0 1 0 1 1 1 0 0]\n",
      " [0 1 1 1 0 1 0 0 1 1 1 1 1]\n",
      " [0 0 1 0 0 1 1 1 0 0 1 1 0]] \n",
      "\n",
      "AX: [5 3 4 1 4 4] \n",
      "\n",
      "AY: [3 2 4 2 3 3] \n",
      "\n",
      "Z:  [0, 0, 0, 1, 0, 0, 0, 0, 0, 1, 0, 1, 0] \n",
      "\n",
      "AZ: [0, 1, 0, 1, 1, 1]\n"
     ]
    }
   ],
   "source": [
    "n = random.randint(10, 20)\n",
    "print(\"Vectors of length n:\",n, \"\\n\")\n",
    "\n",
    "X, Y = generate_bernoulli_vectors(n)\n",
    "print(\"X:\", X)\n",
    "print(\"Y:\", Y, \"\\n\")\n",
    "\n",
    "hp = calc_entropy(0.1)\n",
    "nhp= n*hp\n",
    "print(\"h(p): \",hp)\n",
    "print(\"nh(p): \",nhp, \"\\n\")\n",
    "\n",
    "A = generate_matrix(math.floor(nhp), n)\n",
    "print(\"Matrix A:\", A.shape, \"\\n\")\n",
    "print(A, \"\\n\")\n",
    "\n",
    "AX = np.dot(A, X)\n",
    "print(\"AX:\",AX, \"\\n\")\n",
    "\n",
    "AY = np.dot(A, Y)\n",
    "print(\"AY:\",AY, \"\\n\")\n",
    "\n",
    "Z = modulo_two_sum(X, Y)\n",
    "print (\"Z: \", Z, \"\\n\")\n",
    "\n",
    "AZ = modulo_two_sum(AX, AY)\n",
    "print(\"AZ:\", AZ, )"
   ]
  }
 ],
 "metadata": {
  "kernelspec": {
   "display_name": "Python 3 (ipykernel)",
   "language": "python",
   "name": "python3"
  },
  "language_info": {
   "codemirror_mode": {
    "name": "ipython",
    "version": 3
   },
   "file_extension": ".py",
   "mimetype": "text/x-python",
   "name": "python",
   "nbconvert_exporter": "python",
   "pygments_lexer": "ipython3",
   "version": "3.9.13"
  }
 },
 "nbformat": 4,
 "nbformat_minor": 5
}
