{
 "cells": [
  {
   "cell_type": "markdown",
   "id": "291f69cb",
   "metadata": {},
   "source": [
    "* X, Y ~ Ben(0.5) \n",
    "* Decide m, which is the number of rows such that m  < n * H(Z) where H(Z) = h(p) \n",
    "* h(p) = -plog(2)p-(1-p)log(2)(1-p)\n",
    "* p < 0.5 eller 0.1\n",
    "* m ≈ nh(p)"
   ]
  },
  {
   "cell_type": "code",
   "execution_count": 2,
   "id": "38aa4b0e",
   "metadata": {},
   "outputs": [],
   "source": [
    "import math\n",
    "import random\n",
    "import numpy as np\n",
    "from scipy.stats import entropy"
   ]
  },
  {
   "cell_type": "code",
   "execution_count": 3,
   "id": "a5a6bcba",
   "metadata": {},
   "outputs": [],
   "source": [
    "def generate_bernoulli_vectors(n):\n",
    "    x = [random.choice([0, 1]) for _ in range(n)]\n",
    "    y = [random.choice([0, 1]) for _ in range(n)]\n",
    "    return x, y"
   ]
  },
  {
   "cell_type": "code",
   "execution_count": 4,
   "id": "920b630c",
   "metadata": {},
   "outputs": [],
   "source": [
    "def modulo_two_sum(x, y):\n",
    "    return [((x[i] + y[i]) % 2) for i in range(len(x))]"
   ]
  },
  {
   "cell_type": "code",
   "execution_count": 5,
   "id": "4de2a17b",
   "metadata": {},
   "outputs": [],
   "source": [
    "def generate_matrix(m, n):\n",
    "    matrix = np.random.binomial(n=1, p=0.5, size=(m, n))\n",
    "    return matrix"
   ]
  },
  {
   "cell_type": "code",
   "execution_count": 6,
   "id": "d37dc471",
   "metadata": {},
   "outputs": [],
   "source": [
    "def calc_entropy(p):\n",
    "    h_p = -p*math.log2(p) - (1-p)*math.log2(1-p)\n",
    "    return h_p"
   ]
  },
  {
   "cell_type": "code",
   "execution_count": 40,
   "id": "320c6fe7",
   "metadata": {},
   "outputs": [
    {
     "name": "stdout",
     "output_type": "stream",
     "text": [
      "Vectors of length n: 15 \n",
      "\n",
      "h(p):  0.4689955935892812\n",
      "nh(p):  7.034933903839218 \n",
      "\n",
      "Matrix A: (7, 15) \n",
      "\n",
      "[[0 1 0 1 0 0 1 0 0 0 0 0 1 0 1]\n",
      " [1 1 0 1 0 0 1 0 0 1 1 0 0 0 1]\n",
      " [0 0 0 0 0 1 1 1 0 0 1 1 0 0 0]\n",
      " [0 1 0 1 1 1 0 1 0 1 1 1 0 1 1]\n",
      " [0 1 0 1 1 1 1 1 1 0 0 1 1 1 0]\n",
      " [1 0 1 1 1 0 0 1 0 1 1 0 1 1 0]\n",
      " [1 1 0 0 0 1 1 0 1 0 0 1 0 0 1]] \n",
      "\n",
      "AD % 2: \n",
      " [1 0 1 1 0 0 1]\n"
     ]
    }
   ],
   "source": [
    "n = 15 \n",
    "#random.randint(10, 20)\n",
    "print(\"Vectors of length n:\",n, \"\\n\")\n",
    "\n",
    "D = np.random.binomial(1, 0.1, n)\n",
    "\n",
    "#X, Y = generate_bernoulli_vectors(n)\n",
    "#print(\"X:\", X)\n",
    "#print(\"Y:\", Y, \"\\n\")\n",
    "\n",
    "hp = calc_entropy(0.1)\n",
    "nhp= n*hp\n",
    "print(\"h(p): \",hp)\n",
    "print(\"nh(p): \",nhp, \"\\n\")\n",
    "\n",
    "A = generate_matrix(math.floor(nhp), n)\n",
    "print(\"Matrix A:\", A.shape, \"\\n\")\n",
    "print(A, \"\\n\")\n",
    "\n",
    "AD = np.dot(A, D)\n",
    "#print(\"AD:\",AD, \"\\n\")\n",
    "\n",
    "#AY = np.dot(A, Y)\n",
    "#print(\"AY:\",AY, \"\\n\")\n",
    "\n",
    "#Z = modulo_two_sum(X, Y)\n",
    "#print (\"Z: \", Z, \"\\n\")\n",
    "\n",
    "#AZ = modulo_two_sum(AX, AY)\n",
    "#print(\"AZ:\", AZ, \"\\n\" )\n",
    "\n",
    "res = AD % 2\n",
    "print(\"AD % 2: \\n\", res)"
   ]
  },
  {
   "cell_type": "code",
   "execution_count": 39,
   "id": "b471a44e",
   "metadata": {},
   "outputs": [
    {
     "name": "stdout",
     "output_type": "stream",
     "text": [
      "pseudo_inverse \n",
      " [[ 9.42350333e-02 -8.60310421e-02  4.21286031e-03 -2.23946785e-02\n",
      "  -1.21951220e-01 -1.00221729e-01  2.22616408e-01]\n",
      " [-3.43680710e-02  1.01995565e-02 -2.55654102e-01  2.01108647e-01\n",
      "  -7.31707317e-02  1.87139690e-01 -8.82483370e-02]\n",
      " [ 7.76053215e-03  2.23503326e-01 -2.32594235e-01  3.41685144e-01\n",
      "   4.87804878e-02 -2.03547672e-01 -2.38137472e-01]\n",
      " [ 1.74057650e-01  1.28603104e-02  6.89578714e-02 -5.07760532e-02\n",
      "  -4.87804878e-02  1.49002217e-01 -1.98226164e-01]\n",
      " [ 9.20177384e-02 -1.49889135e-01  2.13525499e-01  2.28381375e-02\n",
      "   2.92682927e-01 -1.84922395e-01 -1.37915743e-01]\n",
      " [ 2.32815965e-02  7.05099778e-02  1.02217295e-01 -1.74944568e-01\n",
      "   1.46341463e-01 -1.06430155e-02  8.55875831e-02]\n",
      " [-1.35254989e-01 -2.95343681e-01 -3.19290466e-02 -4.07982262e-02\n",
      "   2.92682927e-01  2.33259424e-01  2.07538803e-01]\n",
      " [-1.10864745e-02  8.07095344e-02 -1.53436807e-01  2.61640798e-02\n",
      "   7.31707317e-02  1.76496674e-01 -2.66075388e-03]\n",
      " [ 1.74057650e-01  1.28603104e-02  6.89578714e-02 -5.07760532e-02\n",
      "  -4.87804878e-02  1.49002217e-01 -1.98226164e-01]\n",
      " [ 5.59866962e-01  1.24168514e-01 -3.51441242e-01  7.87139690e-02\n",
      "  -1.95121951e-01 -1.13082040e-01 -4.65631929e-01]\n",
      " [ 1.72949002e-01 -1.90687361e-02 -3.26385809e-01  4.71840355e-01\n",
      "  -3.41463415e-01 -3.93348115e-01  1.21507761e-01]\n",
      " [ 2.32815965e-02  7.05099778e-02  1.02217295e-01 -1.74944568e-01\n",
      "   1.46341463e-01 -1.06430155e-02  8.55875831e-02]\n",
      " [-1.67405765e-01  1.78713969e-01  3.03104213e-01 -8.49223947e-02\n",
      "  -1.95121951e-01  1.05099778e-01  2.79822616e-01]\n",
      " [ 1.24168514e-01  3.76053215e-01 -1.21507761e-01  6.69623060e-02\n",
      "  -2.19512195e-01 -5.67627494e-02 -2.10199557e-01]\n",
      " [-2.72727273e-01 -5.45454545e-02  3.45454545e-01  1.63636364e-01\n",
      "   7.75036799e-17 -2.18181818e-01  2.54545455e-01]] \n",
      "\n",
      "[[ 1.00000000e+00 -1.94289029e-16  0.00000000e+00  2.49800181e-16\n",
      "  -1.94289029e-16  6.93889390e-17  0.00000000e+00]\n",
      " [-3.05311332e-16  1.00000000e+00 -1.66533454e-16 -3.05311332e-16\n",
      "   8.32667268e-17  5.55111512e-17  2.22044605e-16]\n",
      " [-3.88578059e-16 -2.15105711e-16  1.00000000e+00  1.94289029e-16\n",
      "  -5.76304692e-18  0.00000000e+00  1.11022302e-16]\n",
      " [-1.66533454e-16 -2.84494650e-16 -2.22044605e-16  1.00000000e+00\n",
      "  -2.55563227e-16  4.44089210e-16  2.22044605e-16]\n",
      " [-3.29597460e-16 -1.52655666e-16  1.11022302e-16 -1.38777878e-16\n",
      "   1.00000000e+00  1.38777878e-16  2.49800181e-16]\n",
      " [-3.33066907e-16 -8.32667268e-17 -2.22044605e-16  2.77555756e-17\n",
      "  -1.66533454e-16  1.00000000e+00  2.77555756e-16]\n",
      " [-5.34294831e-16  1.94289029e-16 -2.08166817e-16  3.33066907e-16\n",
      "   1.11022302e-16  8.32667268e-17  1.00000000e+00]] \n",
      "\n",
      "[ 0.01241685 -0.27982262 -0.00133038  0.25587583  0.1556541   0.19600887\n",
      " -0.46252772 -0.08381375  0.25587583  0.33259424 -0.17250554  0.19600887\n",
      "  0.31441242  0.37871397  0.01818182] \n",
      "\n",
      "[0 1 0 0 0 0 0 0 1 0 0 0 0 1 0]\n"
     ]
    }
   ],
   "source": [
    "pseudo_inverse = np.linalg.pinv(A)\n",
    "print(\"pseudo_inverse \\n\", pseudo_inverse, \"\\n\")\n",
    "r = np.dot(A, pseudo_inverse)\n",
    "print(r, \"\\n\")\n",
    "\n",
    "m = np.dot(pseudo_inverse, res)\n",
    "print(m, \"\\n\")\n",
    "\n",
    "print(D)\n"
   ]
  }
 ],
 "metadata": {
  "kernelspec": {
   "display_name": "Python 3 (ipykernel)",
   "language": "python",
   "name": "python3"
  },
  "language_info": {
   "codemirror_mode": {
    "name": "ipython",
    "version": 3
   },
   "file_extension": ".py",
   "mimetype": "text/x-python",
   "name": "python",
   "nbconvert_exporter": "python",
   "pygments_lexer": "ipython3",
   "version": "3.9.13"
  }
 },
 "nbformat": 4,
 "nbformat_minor": 5
}
