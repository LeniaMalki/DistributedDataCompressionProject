{
 "cells": [
  {
   "cell_type": "markdown",
   "id": "609a14ce",
   "metadata": {},
   "source": [
    "# Setup"
   ]
  },
  {
   "cell_type": "markdown",
   "id": "4424cac6",
   "metadata": {},
   "source": [
    "## Imports"
   ]
  },
  {
   "cell_type": "code",
   "execution_count": 79,
   "id": "f4c862d5",
   "metadata": {},
   "outputs": [],
   "source": [
    "import pandas as pd\n",
    "import chardet\n",
    "import numpy as np\n",
    "import matplotlib.pyplot as plt\n",
    "from sklearn.decomposition import PCA"
   ]
  },
  {
   "cell_type": "code",
   "execution_count": 80,
   "id": "f2240aa5",
   "metadata": {},
   "outputs": [],
   "source": [
    "def import_titles():\n",
    "    df = pd.read_csv('movie_titles.txt', \n",
    "                     encoding=\"ISO-8859-1\", \n",
    "                     usecols=[0, 1, 2])\n",
    "    return df\n",
    "    \n",
    "def import_ratings(n):\n",
    "    df = pd.read_csv('netflix_ratings.txt', \n",
    "                     encoding=\"ascii\", \n",
    "                     sep=' ',\n",
    "                     header=None,\n",
    "                     names=[\"M_ID\", \"M_Year\", \"U_ID\", \"U_Rating\", \"U_Date\"])\n",
    "    df = df[df[\"M_ID\"].between(1, n)]\n",
    "    return df"
   ]
  },
  {
   "cell_type": "code",
   "execution_count": 81,
   "id": "f124b720",
   "metadata": {
    "scrolled": false
   },
   "outputs": [],
   "source": [
    "titles = import_titles()\n",
    "ratings = import_ratings(500)"
   ]
  },
  {
   "cell_type": "code",
   "execution_count": 82,
   "id": "b343f55b",
   "metadata": {},
   "outputs": [
    {
     "name": "stdout",
     "output_type": "stream",
     "text": [
      "Shape of titles: (17770, 3)\n",
      "Columns: Index(['Index', ' Year', ' Title'], dtype='object') \n",
      "\n",
      "Shape of ratings: (2798704, 5)\n",
      "Columns: Index(['M_ID', 'M_Year', 'U_ID', 'U_Rating', 'U_Date'], dtype='object')\n"
     ]
    }
   ],
   "source": [
    "print(\"Shape of titles:\",titles.shape)\n",
    "print(\"Columns:\",titles.columns,\"\\n\")\n",
    "\n",
    "print(\"Shape of ratings:\",ratings.shape)\n",
    "print(\"Columns:\",ratings.columns)"
   ]
  },
  {
   "cell_type": "markdown",
   "id": "hispanic-blair",
   "metadata": {},
   "source": [
    "## Prepare dataframes for PCA"
   ]
  },
  {
   "cell_type": "code",
   "execution_count": 83,
   "id": "armed-manor",
   "metadata": {},
   "outputs": [],
   "source": [
    "def prepare_PCA_df(n):\n",
    "\n",
    "    # Create PCA_df directly using pivot\n",
    "    df = pd.pivot(ratings, values='U_Rating', index='M_ID', columns='U_ID')\n",
    "\n",
    "    # Drop columns with less than a n of non-NaN values\n",
    "    thresh = len(df) / n\n",
    "    df.dropna(axis=1, thresh=thresh, inplace=True)\n",
    "\n",
    "    # Fill NaN values with 0\n",
    "    df.fillna(0, inplace=True)\n",
    "\n",
    "    return df"
   ]
  },
  {
   "cell_type": "code",
   "execution_count": 117,
   "id": "76a029b4",
   "metadata": {},
   "outputs": [
    {
     "name": "stdout",
     "output_type": "stream",
     "text": [
      "df_1: (500, 30)\n",
      "df_2: (500, 31)\n"
     ]
    }
   ],
   "source": [
    "pre_PCA = prepare_PCA_df(4) # Create df and remove a quarter of NaN-values\n",
    "midpoint = len(pre_PCA.columns) // 2 # Calculate the midpoint for column splitting\n",
    "df_1 = pre_PCA.iloc[:, :midpoint].fillna(0)  # First half of columns\n",
    "df_2 = pre_PCA.iloc[:, midpoint:].fillna(0)  # Second half of columns\n",
    "print(\"df_1:\", df_1.shape)\n",
    "print(\"df_2:\", df_2.shape)"
   ]
  },
  {
   "cell_type": "markdown",
   "id": "widespread-burst",
   "metadata": {},
   "source": [
    "## Calculate PCA"
   ]
  },
  {
   "cell_type": "markdown",
   "id": "6b665202",
   "metadata": {},
   "source": [
    "def do_PCA(datadrame):\n",
    "    # Normalisation \n",
    "    normalized_PCA_df = datadrame - datadrame.mean(axis=0)\n",
    "    \n",
    "    # compute the covariance matrix of the standardized data\n",
    "    covariance_matrix = np.cov(normalized_PCA_df.T)\n",
    "\n",
    "    # compute the eigenvectors and eigenvalues of the covariance matrix\n",
    "    eigenvalues, eigenvectors = np.linalg.eig(covariance_matrix)\n",
    "\n",
    "    # sort the eigenvalues in descending order\n",
    "    sorted_indices = np.argsort(eigenvalues)[::-1]\n",
    "    sorted_eigenvalues = eigenvalues[sorted_indices]\n",
    "    sorted_eigenvectors = eigenvectors[:, sorted_indices]\n",
    "\n",
    "    # select the principal components to keep\n",
    "    total_variance = np.sum(sorted_eigenvalues)\n",
    "    variance_explained = sorted_eigenvalues / total_variance\n",
    "    cumulative_variance = np.cumsum(variance_explained)\n",
    "\n",
    "    # keep the principal components that explain 95% of the variance\n",
    "    num_components = np.argmax(cumulative_variance >= 0.95) + 1\n",
    "    #num_components = normalized_PCA_df.shape[1]\n",
    "    principal_components = sorted_eigenvectors[:, :num_components]\n",
    "\n",
    "    # project the data onto the selected principal components\n",
    "    transformed_data = np.dot(normalized_PCA_df, principal_components)\n",
    "    \n",
    "    return pd.DataFrame(transformed_data)"
   ]
  },
  {
   "cell_type": "code",
   "execution_count": 128,
   "id": "319185c5",
   "metadata": {
    "scrolled": true
   },
   "outputs": [],
   "source": [
    "# Perform PCA on df_1\n",
    "pca_1 = PCA()\n",
    "pca_1.fit(df_1)\n",
    "\n",
    "# Perform PCA on df_2\n",
    "pca_2 = PCA()\n",
    "pca_2.fit(df_2)\n",
    "\n",
    "# Create PCA dataframes\n",
    "pca_values_1 = pca_1.transform(df_1)\n",
    "pca_1_df = pd.DataFrame(data=pca_values_1, columns=[\"PC\" + str(i) for i in range(1, pca_values_1.shape[1]+1)])\n",
    "pca_values_2 = pca_2.transform(df_2)\n",
    "pca_2_df = pd.DataFrame(data=pca_values_2, columns=[\"PC\" + str(i) for i in range(1, pca_values_2.shape[1]+1)])\n",
    "\n",
    "# Get the explained variance ratios for df_1 and df_2\n",
    "explained_var_ratio_1 = pca_1.explained_variance_ratio_\n",
    "explained_var_ratio_2 = pca_2.explained_variance_ratio_"
   ]
  },
  {
   "cell_type": "code",
   "execution_count": 129,
   "id": "b3a3b85a",
   "metadata": {},
   "outputs": [
    {
     "name": "stdout",
     "output_type": "stream",
     "text": [
      "pca_1_df: (500, 30)\n",
      "pca_2_df: (500, 31)\n"
     ]
    }
   ],
   "source": [
    "print(\"pca_1_df:\", pca_1_df.shape)\n",
    "print(\"pca_2_df:\", pca_2_df.shape)"
   ]
  },
  {
   "cell_type": "markdown",
   "id": "21d0c1a9",
   "metadata": {},
   "source": [
    "## Comparing Explained Variance\n",
    "Aim: To identify if there are any significant differences between the two dataframes in terms of capturing the underlying variance"
   ]
  },
  {
   "cell_type": "code",
   "execution_count": 130,
   "id": "e9f0c095",
   "metadata": {},
   "outputs": [
    {
     "data": {
      "image/png": "[encoded data removed]",
      "text/plain": [
       "<Figure size 640x480 with 1 Axes>"
      ]
     },
     "metadata": {},
     "output_type": "display_data"
    }
   ],
   "source": [
    "# Set the number of components to plot\n",
    "n_components = 30\n",
    "\n",
    "# Create an array of component indices\n",
    "component_indices = np.arange(1, n_components + 1)\n",
    "\n",
    "# Plot the explained variance ratios for both dataframes in the same graph\n",
    "plt.plot(component_indices, explained_var_ratio_1[:n_components], label='PCA_1')\n",
    "plt.plot(component_indices, explained_var_ratio_2[:n_components], label='PCA_2')\n",
    "\n",
    "plt.xlabel('Principal Component')\n",
    "plt.ylabel('Explained Variance Ratio')\n",
    "plt.title('Explained Variance Ratio Comparison')\n",
    "plt.legend()\n",
    "plt.show()"
   ]
  }
 ],
 "metadata": {
  "kernelspec": {
   "display_name": "Python 3 (ipykernel)",
   "language": "python",
   "name": "python3"
  },
  "language_info": {
   "codemirror_mode": {
    "name": "ipython",
    "version": 3
   },
   "file_extension": ".py",
   "mimetype": "text/x-python",
   "name": "python",
   "nbconvert_exporter": "python",
   "pygments_lexer": "ipython3",
   "version": "3.9.13"
  }
 },
 "nbformat": 4,
 "nbformat_minor": 5
}
